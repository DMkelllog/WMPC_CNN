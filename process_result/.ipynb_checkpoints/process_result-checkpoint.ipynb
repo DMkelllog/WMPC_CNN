{
 "cells": [
  {
   "cell_type": "code",
   "execution_count": 17,
   "metadata": {
    "ExecuteTime": {
     "end_time": "2021-03-01T12:11:41.597355Z",
     "start_time": "2021-03-01T12:11:41.594331Z"
    }
   },
   "outputs": [],
   "source": [
    "import pickle\n",
    "import numpy as np\n",
    "import pandas as pd\n",
    "from scipy import stats"
   ]
  },
  {
   "cell_type": "code",
   "execution_count": 18,
   "metadata": {
    "ExecuteTime": {
     "end_time": "2021-03-01T12:11:41.771857Z",
     "start_time": "2021-03-01T12:11:41.768865Z"
    }
   },
   "outputs": [],
   "source": [
    "TRAIN_SIZE_LIST = [500, 5000, 50000, 162946]"
   ]
  },
  {
   "cell_type": "code",
   "execution_count": 47,
   "metadata": {
    "ExecuteTime": {
     "end_time": "2021-03-01T12:24:28.155875Z",
     "start_time": "2021-03-01T12:24:28.149891Z"
    }
   },
   "outputs": [],
   "source": [
    "def t_test(MODEL_LIST, result_dict):\n",
    "    for TRAIN_SIZE_ID in range(4):\n",
    "        a_list = []\n",
    "        for MODEL_ID in range(len(MODEL_LIST)):\n",
    "            a_list.append(result_dict[MODEL_ID]['mean'][TRAIN_SIZE_ID])\n",
    "        first, second = np.argsort(a_list)[::-1][:2]\n",
    "        p_value = stats.ttest_rel(result_dict[first][TRAIN_SIZE_ID], \n",
    "                              result_dict[second][TRAIN_SIZE_ID], alternative='greater')[1]\n",
    "        if p_value > 0.05: \n",
    "            print('first:', MODEL_LIST[first], 'first:', MODEL_LIST[second], '__', np.round(p_value, 4))\n",
    "        elif p_value > 0.01:\n",
    "            print('first:', MODEL_LIST[first], 'first:', MODEL_LIST[second], '*', np.round(p_value, 4))\n",
    "        else:\n",
    "            print('first:', MODEL_LIST[first], 'first:', MODEL_LIST[second], '**', np.round(p_value, 4))"
   ]
  },
  {
   "cell_type": "markdown",
   "metadata": {},
   "source": [
    "# Preliminary Experiments"
   ]
  },
  {
   "cell_type": "markdown",
   "metadata": {},
   "source": [
    "## MFE compare"
   ]
  },
  {
   "cell_type": "code",
   "execution_count": 19,
   "metadata": {
    "ExecuteTime": {
     "end_time": "2021-03-01T12:11:42.292429Z",
     "start_time": "2021-03-01T12:11:42.286437Z"
    }
   },
   "outputs": [],
   "source": [
    "MODEL_LIST = ['LR', 'SVM', 'RF', 'GBM', 'FNN']"
   ]
  },
  {
   "cell_type": "code",
   "execution_count": 20,
   "metadata": {
    "ExecuteTime": {
     "end_time": "2021-03-01T12:11:42.485907Z",
     "start_time": "2021-03-01T12:11:42.455984Z"
    }
   },
   "outputs": [],
   "source": [
    "macro_dict = {MODEL_ID: {TRAIN_SIZE_ID: [] for TRAIN_SIZE_ID in [0,1,2,3, 'mean', 'std']} for MODEL_ID in range(5)}\n",
    "micro_dict = {MODEL_ID: {TRAIN_SIZE_ID: [] for TRAIN_SIZE_ID in [0,1,2,3, 'mean', 'std']} for MODEL_ID in range(5)}\n",
    "cm_dict = {MODEL_ID: {TRAIN_SIZE_ID: {'total':[],'summary': np.zeros((9,9))} for TRAIN_SIZE_ID in range(4)} for MODEL_ID in range(5)}\n",
    "\n",
    "for MODEL_ID in range(5):\n",
    "    for TRAIN_SIZE_ID in range(4):\n",
    "        TRAIN_SIZE = TRAIN_SIZE_LIST[TRAIN_SIZE_ID]\n",
    "        for REP_ID in range(10):\n",
    "            filename = '../result/MFE/WMPC_'+'MFE_'+str(MODEL_ID)+'_'+str(TRAIN_SIZE)+'_'+str(REP_ID)+'_'\n",
    "            with open(filename+'f1_score.pickle', 'rb') as f:\n",
    "                macro, micro, cm = pickle.load(f)\n",
    "            macro_dict[MODEL_ID][TRAIN_SIZE_ID].append(macro)\n",
    "            micro_dict[MODEL_ID][TRAIN_SIZE_ID].append(micro)\n",
    "            cm_dict[MODEL_ID][TRAIN_SIZE_ID]['total'].append(cm)\n",
    "            cm_dict[MODEL_ID][TRAIN_SIZE_ID]['summary'] = cm_dict[MODEL_ID][TRAIN_SIZE_ID]['summary'][0] + cm\n",
    "        macro_dict[MODEL_ID]['mean'].append(np.mean(macro_dict[MODEL_ID][TRAIN_SIZE_ID]))\n",
    "        macro_dict[MODEL_ID]['std'].append(np.std(macro_dict[MODEL_ID][TRAIN_SIZE_ID]))\n",
    "        micro_dict[MODEL_ID]['mean'].append(np.mean(micro_dict[MODEL_ID][TRAIN_SIZE_ID]))\n",
    "        micro_dict[MODEL_ID]['std'].append(np.std(micro_dict[MODEL_ID][TRAIN_SIZE_ID]))     "
   ]
  },
  {
   "cell_type": "code",
   "execution_count": 21,
   "metadata": {
    "ExecuteTime": {
     "end_time": "2021-03-01T12:11:42.636476Z",
     "start_time": "2021-03-01T12:11:42.625532Z"
    }
   },
   "outputs": [
    {
     "data": {
      "text/html": [
       "<div>\n",
       "<style scoped>\n",
       "    .dataframe tbody tr th:only-of-type {\n",
       "        vertical-align: middle;\n",
       "    }\n",
       "\n",
       "    .dataframe tbody tr th {\n",
       "        vertical-align: top;\n",
       "    }\n",
       "\n",
       "    .dataframe thead th {\n",
       "        text-align: right;\n",
       "    }\n",
       "</style>\n",
       "<table border=\"1\" class=\"dataframe\">\n",
       "  <thead>\n",
       "    <tr style=\"text-align: right;\">\n",
       "      <th></th>\n",
       "      <th>TS</th>\n",
       "      <th>LR</th>\n",
       "      <th>SVM</th>\n",
       "      <th>RF</th>\n",
       "      <th>GBM</th>\n",
       "      <th>FNN</th>\n",
       "    </tr>\n",
       "  </thead>\n",
       "  <tbody>\n",
       "    <tr>\n",
       "      <th>0</th>\n",
       "      <td>500</td>\n",
       "      <td>0.5787+-0.0259</td>\n",
       "      <td>0.3689+-0.0357</td>\n",
       "      <td>0.539+-0.0418</td>\n",
       "      <td>0.5065+-0.0234</td>\n",
       "      <td>0.5558+-0.0376</td>\n",
       "    </tr>\n",
       "    <tr>\n",
       "      <th>1</th>\n",
       "      <td>5000</td>\n",
       "      <td>0.7078+-0.0307</td>\n",
       "      <td>0.542+-0.0287</td>\n",
       "      <td>0.6655+-0.0176</td>\n",
       "      <td>0.6527+-0.0279</td>\n",
       "      <td>0.6983+-0.0371</td>\n",
       "    </tr>\n",
       "    <tr>\n",
       "      <th>2</th>\n",
       "      <td>50000</td>\n",
       "      <td>0.7988+-0.017</td>\n",
       "      <td>0.7636+-0.0166</td>\n",
       "      <td>0.7965+-0.0089</td>\n",
       "      <td>0.7797+-0.0138</td>\n",
       "      <td>0.831+-0.0109</td>\n",
       "    </tr>\n",
       "    <tr>\n",
       "      <th>3</th>\n",
       "      <td>162946</td>\n",
       "      <td>0.8143+-0.0133</td>\n",
       "      <td>0.8254+-0.0127</td>\n",
       "      <td>0.8345+-0.0126</td>\n",
       "      <td>0.8112+-0.0123</td>\n",
       "      <td>0.8599+-0.0117</td>\n",
       "    </tr>\n",
       "  </tbody>\n",
       "</table>\n",
       "</div>"
      ],
      "text/plain": [
       "       TS              LR             SVM              RF             GBM  \\\n",
       "0     500  0.5787+-0.0259  0.3689+-0.0357   0.539+-0.0418  0.5065+-0.0234   \n",
       "1    5000  0.7078+-0.0307   0.542+-0.0287  0.6655+-0.0176  0.6527+-0.0279   \n",
       "2   50000   0.7988+-0.017  0.7636+-0.0166  0.7965+-0.0089  0.7797+-0.0138   \n",
       "3  162946  0.8143+-0.0133  0.8254+-0.0127  0.8345+-0.0126  0.8112+-0.0123   \n",
       "\n",
       "              FNN  \n",
       "0  0.5558+-0.0376  \n",
       "1  0.6983+-0.0371  \n",
       "2   0.831+-0.0109  \n",
       "3  0.8599+-0.0117  "
      ]
     },
     "execution_count": 21,
     "metadata": {},
     "output_type": "execute_result"
    }
   ],
   "source": [
    "macro_df = {'TS': TRAIN_SIZE_LIST}\n",
    "for MODEL_ID in range(5):\n",
    "    model_name = MODEL_LIST[MODEL_ID]\n",
    "    macro_df[model_name] = [str(np.round(macro_dict[MODEL_ID]['mean'],4)[i]) +'+-'+ \n",
    "                            str(np.round(macro_dict[MODEL_ID]['std'],4)[i]) for i in range(4)]\n",
    "pd.DataFrame(macro_df)"
   ]
  },
  {
   "cell_type": "code",
   "execution_count": 22,
   "metadata": {
    "ExecuteTime": {
     "end_time": "2021-03-01T12:11:42.825002Z",
     "start_time": "2021-03-01T12:11:42.816992Z"
    }
   },
   "outputs": [
    {
     "name": "stdout",
     "output_type": "stream",
     "text": [
      "first: LR first: FNN * 0.0184\n",
      "first: LR first: FNN __ 0.2906\n",
      "first: FNN first: LR ** 0.0009\n",
      "first: FNN first: RF ** 0.0006\n"
     ]
    }
   ],
   "source": [
    "for TRAIN_SIZE_ID in range(4):\n",
    "    a_list = []\n",
    "    for MODEL_ID in range(5):\n",
    "        a_list.append(macro_dict[MODEL_ID]['mean'][TRAIN_SIZE_ID])\n",
    "    first, second = np.argsort(a_list)[::-1][:2]\n",
    "    p_value = stats.ttest_rel(macro_dict[first][TRAIN_SIZE_ID], \n",
    "                          macro_dict[second][TRAIN_SIZE_ID], alternative='greater')[1]\n",
    "    if p_value > 0.05: \n",
    "        print('first:', MODEL_LIST[first], 'first:', MODEL_LIST[second], '__', np.round(p_value, 4))\n",
    "    elif p_value > 0.01:\n",
    "        print('first:', MODEL_LIST[first], 'first:', MODEL_LIST[second], '*', np.round(p_value, 4))\n",
    "    else:\n",
    "        print('first:', MODEL_LIST[first], 'first:', MODEL_LIST[second], '**', np.round(p_value, 4))"
   ]
  },
  {
   "cell_type": "code",
   "execution_count": 23,
   "metadata": {
    "ExecuteTime": {
     "end_time": "2021-03-01T12:11:43.004491Z",
     "start_time": "2021-03-01T12:11:42.993544Z"
    },
    "scrolled": true
   },
   "outputs": [
    {
     "data": {
      "text/html": [
       "<div>\n",
       "<style scoped>\n",
       "    .dataframe tbody tr th:only-of-type {\n",
       "        vertical-align: middle;\n",
       "    }\n",
       "\n",
       "    .dataframe tbody tr th {\n",
       "        vertical-align: top;\n",
       "    }\n",
       "\n",
       "    .dataframe thead th {\n",
       "        text-align: right;\n",
       "    }\n",
       "</style>\n",
       "<table border=\"1\" class=\"dataframe\">\n",
       "  <thead>\n",
       "    <tr style=\"text-align: right;\">\n",
       "      <th></th>\n",
       "      <th>TS</th>\n",
       "      <th>LR</th>\n",
       "      <th>SVM</th>\n",
       "      <th>RF</th>\n",
       "      <th>GBM</th>\n",
       "      <th>FNN</th>\n",
       "    </tr>\n",
       "  </thead>\n",
       "  <tbody>\n",
       "    <tr>\n",
       "      <th>0</th>\n",
       "      <td>500</td>\n",
       "      <td>0.9401+-0.0033</td>\n",
       "      <td>0.9244+-0.0033</td>\n",
       "      <td>0.9377+-0.0036</td>\n",
       "      <td>0.9286+-0.0033</td>\n",
       "      <td>0.9415+-0.0044</td>\n",
       "    </tr>\n",
       "    <tr>\n",
       "      <th>1</th>\n",
       "      <td>5000</td>\n",
       "      <td>0.9581+-0.0013</td>\n",
       "      <td>0.9494+-0.0022</td>\n",
       "      <td>0.9555+-0.0021</td>\n",
       "      <td>0.9514+-0.0019</td>\n",
       "      <td>0.96+-0.0011</td>\n",
       "    </tr>\n",
       "    <tr>\n",
       "      <th>2</th>\n",
       "      <td>50000</td>\n",
       "      <td>0.9657+-0.0017</td>\n",
       "      <td>0.9662+-0.0013</td>\n",
       "      <td>0.966+-0.0018</td>\n",
       "      <td>0.965+-0.0011</td>\n",
       "      <td>0.9712+-0.001</td>\n",
       "    </tr>\n",
       "    <tr>\n",
       "      <th>3</th>\n",
       "      <td>162946</td>\n",
       "      <td>0.967+-0.0014</td>\n",
       "      <td>0.9718+-0.001</td>\n",
       "      <td>0.9703+-0.0014</td>\n",
       "      <td>0.9683+-0.0013</td>\n",
       "      <td>0.9741+-0.001</td>\n",
       "    </tr>\n",
       "  </tbody>\n",
       "</table>\n",
       "</div>"
      ],
      "text/plain": [
       "       TS              LR             SVM              RF             GBM  \\\n",
       "0     500  0.9401+-0.0033  0.9244+-0.0033  0.9377+-0.0036  0.9286+-0.0033   \n",
       "1    5000  0.9581+-0.0013  0.9494+-0.0022  0.9555+-0.0021  0.9514+-0.0019   \n",
       "2   50000  0.9657+-0.0017  0.9662+-0.0013   0.966+-0.0018   0.965+-0.0011   \n",
       "3  162946   0.967+-0.0014   0.9718+-0.001  0.9703+-0.0014  0.9683+-0.0013   \n",
       "\n",
       "              FNN  \n",
       "0  0.9415+-0.0044  \n",
       "1    0.96+-0.0011  \n",
       "2   0.9712+-0.001  \n",
       "3   0.9741+-0.001  "
      ]
     },
     "execution_count": 23,
     "metadata": {},
     "output_type": "execute_result"
    }
   ],
   "source": [
    "micro_df = {'TS': TRAIN_SIZE_LIST}\n",
    "for MODEL_ID in range(5):\n",
    "    model_name = MODEL_LIST[MODEL_ID]\n",
    "    micro_df[model_name] = [str(np.round(micro_dict[MODEL_ID]['mean'],4)[i]) +'+-'+ \n",
    "                            str(np.round(micro_dict[MODEL_ID]['std'],4)[i]) for i in range(4)]\n",
    "pd.DataFrame(micro_df)"
   ]
  },
  {
   "cell_type": "code",
   "execution_count": 24,
   "metadata": {
    "ExecuteTime": {
     "end_time": "2021-03-01T12:11:43.185009Z",
     "start_time": "2021-03-01T12:11:43.176031Z"
    }
   },
   "outputs": [
    {
     "name": "stdout",
     "output_type": "stream",
     "text": [
      "first: FNN first: LR __ 0.1566\n",
      "first: FNN first: LR ** 0.00082\n",
      "first: FNN first: SVM ** 0.0\n",
      "first: FNN first: SVM ** 0.0001\n"
     ]
    }
   ],
   "source": [
    "for TRAIN_SIZE_ID in range(4):\n",
    "    a_list = []\n",
    "    for MODEL_ID in range(5):\n",
    "        a_list.append(micro_dict[MODEL_ID]['mean'][TRAIN_SIZE_ID])\n",
    "    first, second = np.argsort(a_list)[::-1][:2]\n",
    "    p_value = stats.ttest_rel(micro_dict[first][TRAIN_SIZE_ID], \n",
    "                          micro_dict[second][TRAIN_SIZE_ID], alternative='greater')[1]\n",
    "    if p_value > 0.05: \n",
    "        print('first:', MODEL_LIST[first], 'first:', MODEL_LIST[second], '__', np.round(p_value, 5))\n",
    "    elif p_value > 0.01:\n",
    "        print('first:', MODEL_LIST[first], 'first:', MODEL_LIST[second], '*', np.round(p_value, 5))\n",
    "    else:\n",
    "        print('first:', MODEL_LIST[first], 'first:', MODEL_LIST[second], '**', np.round(p_value, 5))"
   ]
  },
  {
   "cell_type": "markdown",
   "metadata": {},
   "source": [
    "## CNN compare"
   ]
  },
  {
   "cell_type": "code",
   "execution_count": 25,
   "metadata": {
    "ExecuteTime": {
     "end_time": "2021-03-01T12:11:43.769604Z",
     "start_time": "2021-03-01T12:11:43.765588Z"
    }
   },
   "outputs": [],
   "source": [
    "MODEL_LIST = ['VGGNet', 'ResNet', 'DenseNet']"
   ]
  },
  {
   "cell_type": "code",
   "execution_count": 26,
   "metadata": {
    "ExecuteTime": {
     "end_time": "2021-03-01T12:11:44.167513Z",
     "start_time": "2021-03-01T12:11:44.144602Z"
    }
   },
   "outputs": [],
   "source": [
    "macro_dict = {MODEL_ID: {TRAIN_SIZE_ID: [] for TRAIN_SIZE_ID in [0,1,2,3, 'mean', 'std']} for MODEL_ID in range(3)}\n",
    "micro_dict = {MODEL_ID: {TRAIN_SIZE_ID: [] for TRAIN_SIZE_ID in [0,1,2,3, 'mean', 'std']} for MODEL_ID in range(3)}\n",
    "cm_dict = {MODEL_ID: {TRAIN_SIZE_ID: {'total':[],'summary': np.zeros((9,9))} for TRAIN_SIZE_ID in range(4)} for MODEL_ID in range(3)}\n",
    "\n",
    "for MODEL_ID in range(3):\n",
    "    for TRAIN_SIZE_ID in range(4):\n",
    "        TRAIN_SIZE = TRAIN_SIZE_LIST[TRAIN_SIZE_ID]\n",
    "        for REP_ID in range(9):\n",
    "            filename = '../result/CNN/WMPC_'+'CNN_'+str(MODEL_ID)+'_'+str(TRAIN_SIZE)+'_'+str(REP_ID)+'_'\n",
    "            with open(filename+'f1_score.pickle', 'rb') as f:\n",
    "                macro, micro, cm = pickle.load(f)\n",
    "            macro_dict[MODEL_ID][TRAIN_SIZE_ID].append(macro)\n",
    "            micro_dict[MODEL_ID][TRAIN_SIZE_ID].append(micro)\n",
    "            cm_dict[MODEL_ID][TRAIN_SIZE_ID]['total'].append(cm)\n",
    "            cm_dict[MODEL_ID][TRAIN_SIZE_ID]['summary'] = cm_dict[MODEL_ID][TRAIN_SIZE_ID]['summary'][0] + cm\n",
    "        macro_dict[MODEL_ID]['mean'].append(np.mean(macro_dict[MODEL_ID][TRAIN_SIZE_ID]))\n",
    "        macro_dict[MODEL_ID]['std'].append(np.std(macro_dict[MODEL_ID][TRAIN_SIZE_ID]))\n",
    "        micro_dict[MODEL_ID]['mean'].append(np.mean(micro_dict[MODEL_ID][TRAIN_SIZE_ID]))\n",
    "        micro_dict[MODEL_ID]['std'].append(np.std(micro_dict[MODEL_ID][TRAIN_SIZE_ID]))     "
   ]
  },
  {
   "cell_type": "code",
   "execution_count": 27,
   "metadata": {
    "ExecuteTime": {
     "end_time": "2021-03-01T12:11:44.830705Z",
     "start_time": "2021-03-01T12:11:44.818713Z"
    }
   },
   "outputs": [
    {
     "data": {
      "text/html": [
       "<div>\n",
       "<style scoped>\n",
       "    .dataframe tbody tr th:only-of-type {\n",
       "        vertical-align: middle;\n",
       "    }\n",
       "\n",
       "    .dataframe tbody tr th {\n",
       "        vertical-align: top;\n",
       "    }\n",
       "\n",
       "    .dataframe thead th {\n",
       "        text-align: right;\n",
       "    }\n",
       "</style>\n",
       "<table border=\"1\" class=\"dataframe\">\n",
       "  <thead>\n",
       "    <tr style=\"text-align: right;\">\n",
       "      <th></th>\n",
       "      <th>TS</th>\n",
       "      <th>VGGNet</th>\n",
       "      <th>ResNet</th>\n",
       "      <th>DenseNet</th>\n",
       "    </tr>\n",
       "  </thead>\n",
       "  <tbody>\n",
       "    <tr>\n",
       "      <th>0</th>\n",
       "      <td>500</td>\n",
       "      <td>0.491+-0.0672</td>\n",
       "      <td>0.3809+-0.0846</td>\n",
       "      <td>0.3931+-0.0481</td>\n",
       "    </tr>\n",
       "    <tr>\n",
       "      <th>1</th>\n",
       "      <td>5000</td>\n",
       "      <td>0.6996+-0.0422</td>\n",
       "      <td>0.6466+-0.0225</td>\n",
       "      <td>0.6767+-0.0425</td>\n",
       "    </tr>\n",
       "    <tr>\n",
       "      <th>2</th>\n",
       "      <td>50000</td>\n",
       "      <td>0.8398+-0.0225</td>\n",
       "      <td>0.8167+-0.0196</td>\n",
       "      <td>0.8267+-0.0127</td>\n",
       "    </tr>\n",
       "    <tr>\n",
       "      <th>3</th>\n",
       "      <td>162946</td>\n",
       "      <td>0.8685+-0.0131</td>\n",
       "      <td>0.8714+-0.0143</td>\n",
       "      <td>0.8802+-0.0171</td>\n",
       "    </tr>\n",
       "  </tbody>\n",
       "</table>\n",
       "</div>"
      ],
      "text/plain": [
       "       TS          VGGNet          ResNet        DenseNet\n",
       "0     500   0.491+-0.0672  0.3809+-0.0846  0.3931+-0.0481\n",
       "1    5000  0.6996+-0.0422  0.6466+-0.0225  0.6767+-0.0425\n",
       "2   50000  0.8398+-0.0225  0.8167+-0.0196  0.8267+-0.0127\n",
       "3  162946  0.8685+-0.0131  0.8714+-0.0143  0.8802+-0.0171"
      ]
     },
     "execution_count": 27,
     "metadata": {},
     "output_type": "execute_result"
    }
   ],
   "source": [
    "macro_df = {'TS': TRAIN_SIZE_LIST}\n",
    "for MODEL_ID in range(3):\n",
    "    model_name = MODEL_LIST[MODEL_ID]\n",
    "    macro_df[model_name] = [str(np.round(macro_dict[MODEL_ID]['mean'],4)[i]) +'+-'+ \n",
    "                            str(np.round(macro_dict[MODEL_ID]['std'],4)[i]) for i in range(4)]\n",
    "pd.DataFrame(macro_df)"
   ]
  },
  {
   "cell_type": "code",
   "execution_count": null,
   "metadata": {},
   "outputs": [],
   "source": []
  },
  {
   "cell_type": "code",
   "execution_count": 45,
   "metadata": {
    "ExecuteTime": {
     "end_time": "2021-03-01T12:24:02.081641Z",
     "start_time": "2021-03-01T12:24:02.074663Z"
    }
   },
   "outputs": [],
   "source": []
  },
  {
   "cell_type": "code",
   "execution_count": 46,
   "metadata": {
    "ExecuteTime": {
     "end_time": "2021-03-01T12:24:15.162591Z",
     "start_time": "2021-03-01T12:24:15.156604Z"
    }
   },
   "outputs": [
    {
     "name": "stdout",
     "output_type": "stream",
     "text": [
      "first: VGGNet first: DenseNet __ 0.265\n",
      "first: DenseNet first: VGGNet __ 0.3891\n",
      "first: ResNet first: VGGNet __ 0.1527\n",
      "first: ResNet first: VGGNet __ 0.0781\n"
     ]
    }
   ],
   "source": [
    "t_test(MODEL_LIST, macro_dict)"
   ]
  },
  {
   "cell_type": "code",
   "execution_count": 29,
   "metadata": {
    "ExecuteTime": {
     "end_time": "2021-03-01T12:11:49.041536Z",
     "start_time": "2021-03-01T12:11:49.033530Z"
    }
   },
   "outputs": [
    {
     "name": "stdout",
     "output_type": "stream",
     "text": [
      "first: VGGNet first: DenseNet ** 0.0008\n",
      "first: VGGNet first: DenseNet __ 0.1134\n",
      "first: VGGNet first: DenseNet __ 0.0736\n",
      "first: DenseNet first: ResNet __ 0.1624\n"
     ]
    }
   ],
   "source": [
    "for TRAIN_SIZE_ID in range(4):\n",
    "    a_list = []\n",
    "    for MODEL_ID in range(3):\n",
    "        a_list.append(macro_dict[MODEL_ID]['mean'][TRAIN_SIZE_ID])\n",
    "    first, second = np.argsort(a_list)[::-1][:2]\n",
    "    p_value = stats.ttest_rel(macro_dict[first][TRAIN_SIZE_ID], \n",
    "                          macro_dict[second][TRAIN_SIZE_ID], alternative='greater')[1]\n",
    "    if p_value > 0.05: \n",
    "        print('first:', MODEL_LIST[first], 'first:', MODEL_LIST[second], '__', np.round(p_value, 4))\n",
    "    elif p_value > 0.01:\n",
    "        print('first:', MODEL_LIST[first], 'first:', MODEL_LIST[second], '*', np.round(p_value, 4))\n",
    "    else:\n",
    "        print('first:', MODEL_LIST[first], 'first:', MODEL_LIST[second], '**', np.round(p_value, 4))"
   ]
  },
  {
   "cell_type": "code",
   "execution_count": 30,
   "metadata": {
    "ExecuteTime": {
     "end_time": "2021-03-01T12:11:50.815229Z",
     "start_time": "2021-03-01T12:11:50.807258Z"
    }
   },
   "outputs": [
    {
     "data": {
      "text/html": [
       "<div>\n",
       "<style scoped>\n",
       "    .dataframe tbody tr th:only-of-type {\n",
       "        vertical-align: middle;\n",
       "    }\n",
       "\n",
       "    .dataframe tbody tr th {\n",
       "        vertical-align: top;\n",
       "    }\n",
       "\n",
       "    .dataframe thead th {\n",
       "        text-align: right;\n",
       "    }\n",
       "</style>\n",
       "<table border=\"1\" class=\"dataframe\">\n",
       "  <thead>\n",
       "    <tr style=\"text-align: right;\">\n",
       "      <th></th>\n",
       "      <th>TS</th>\n",
       "      <th>VGGNet</th>\n",
       "      <th>ResNet</th>\n",
       "      <th>DenseNet</th>\n",
       "    </tr>\n",
       "  </thead>\n",
       "  <tbody>\n",
       "    <tr>\n",
       "      <th>0</th>\n",
       "      <td>500</td>\n",
       "      <td>0.9285+-0.0095</td>\n",
       "      <td>0.9151+-0.0079</td>\n",
       "      <td>0.9171+-0.0056</td>\n",
       "    </tr>\n",
       "    <tr>\n",
       "      <th>1</th>\n",
       "      <td>5000</td>\n",
       "      <td>0.9607+-0.0028</td>\n",
       "      <td>0.9455+-0.0037</td>\n",
       "      <td>0.9516+-0.0044</td>\n",
       "    </tr>\n",
       "    <tr>\n",
       "      <th>2</th>\n",
       "      <td>50000</td>\n",
       "      <td>0.9729+-0.0024</td>\n",
       "      <td>0.9677+-0.0032</td>\n",
       "      <td>0.9693+-0.0019</td>\n",
       "    </tr>\n",
       "    <tr>\n",
       "      <th>3</th>\n",
       "      <td>162946</td>\n",
       "      <td>0.9776+-0.0013</td>\n",
       "      <td>0.9757+-0.0013</td>\n",
       "      <td>0.9766+-0.0016</td>\n",
       "    </tr>\n",
       "  </tbody>\n",
       "</table>\n",
       "</div>"
      ],
      "text/plain": [
       "       TS          VGGNet          ResNet        DenseNet\n",
       "0     500  0.9285+-0.0095  0.9151+-0.0079  0.9171+-0.0056\n",
       "1    5000  0.9607+-0.0028  0.9455+-0.0037  0.9516+-0.0044\n",
       "2   50000  0.9729+-0.0024  0.9677+-0.0032  0.9693+-0.0019\n",
       "3  162946  0.9776+-0.0013  0.9757+-0.0013  0.9766+-0.0016"
      ]
     },
     "execution_count": 30,
     "metadata": {},
     "output_type": "execute_result"
    }
   ],
   "source": [
    "micro_df = {'TS': TRAIN_SIZE_LIST}\n",
    "for MODEL_ID in range(3):\n",
    "    model_name = MODEL_LIST[MODEL_ID]\n",
    "    micro_df[model_name] = [str(np.round(micro_dict[MODEL_ID]['mean'],4)[i]) +'+-'+ \n",
    "                            str(np.round(micro_dict[MODEL_ID]['std'],4)[i]) for i in range(4)]\n",
    "pd.DataFrame(micro_df)"
   ]
  },
  {
   "cell_type": "code",
   "execution_count": 31,
   "metadata": {
    "ExecuteTime": {
     "end_time": "2021-03-01T12:11:52.758046Z",
     "start_time": "2021-03-01T12:11:52.750068Z"
    }
   },
   "outputs": [
    {
     "name": "stdout",
     "output_type": "stream",
     "text": [
      "first: VGGNet first: DenseNet ** 0.002\n",
      "first: VGGNet first: DenseNet ** 0.00076\n",
      "first: VGGNet first: DenseNet ** 0.00437\n",
      "first: VGGNet first: DenseNet * 0.01922\n"
     ]
    }
   ],
   "source": [
    "for TRAIN_SIZE_ID in range(4):\n",
    "    a_list = []\n",
    "    for MODEL_ID in range(3):\n",
    "        a_list.append(micro_dict[MODEL_ID]['mean'][TRAIN_SIZE_ID])\n",
    "    first, second = np.argsort(a_list)[::-1][:2]\n",
    "    p_value = stats.ttest_rel(micro_dict[first][TRAIN_SIZE_ID], \n",
    "                          micro_dict[second][TRAIN_SIZE_ID], alternative='greater')[1]\n",
    "    if p_value > 0.05: \n",
    "        print('first:', MODEL_LIST[first], 'first:', MODEL_LIST[second], '__', np.round(p_value, 5))\n",
    "    elif p_value > 0.01:\n",
    "        print('first:', MODEL_LIST[first], 'first:', MODEL_LIST[second], '*', np.round(p_value, 5))\n",
    "    else:\n",
    "        print('first:', MODEL_LIST[first], 'first:', MODEL_LIST[second], '**', np.round(p_value, 5))"
   ]
  },
  {
   "cell_type": "markdown",
   "metadata": {},
   "source": [
    "# Main Experiment"
   ]
  },
  {
   "cell_type": "code",
   "execution_count": 38,
   "metadata": {
    "ExecuteTime": {
     "end_time": "2021-03-01T12:15:40.953865Z",
     "start_time": "2021-03-01T12:15:40.950875Z"
    }
   },
   "outputs": [],
   "source": [
    "MODE_LIST = ['MFE+FNN', 'CNN', 'MultiNN', 'Stacking-DT', 'Stacking-FNN', 'Stacking-MLR']"
   ]
  },
  {
   "cell_type": "code",
   "execution_count": 40,
   "metadata": {
    "ExecuteTime": {
     "end_time": "2021-03-01T12:16:21.041203Z",
     "start_time": "2021-03-01T12:16:20.858605Z"
    }
   },
   "outputs": [],
   "source": [
    "macro_dict = {MODE_ID: {TRAIN_SIZE_ID: [] for TRAIN_SIZE_ID in [0,1,2,3, 'mean', 'std']} \n",
    "              for MODE_ID in range(6)}\n",
    "micro_dict = {MODE_ID: {TRAIN_SIZE_ID: [] for TRAIN_SIZE_ID in [0,1,2,3, 'mean', 'std']} \n",
    "              for MODE_ID in range(6)}\n",
    "cm_dict = {MODE_ID: {TRAIN_SIZE_ID: {'total':[],'summary': np.zeros((9,9))} for TRAIN_SIZE_ID in range(4)} \n",
    "           for MODE_ID in range(6)}\n",
    "\n",
    "for MODE_ID in range(6):\n",
    "    for TRAIN_SIZE_ID in range(4):\n",
    "        TRAIN_SIZE = TRAIN_SIZE_LIST[TRAIN_SIZE_ID]\n",
    "        for REP_ID in range(10):\n",
    "            if MODE_ID == 0: MODE, MODEL_ID = 'MFE', 4\n",
    "            elif MODE_ID == 1: MODE, MODEL_ID = 'CNN', 0\n",
    "            elif MODE_ID == 2: MODE, MODEL_ID = 'MultiNN', 0\n",
    "            elif MODE_ID == 3: MODE, MODEL_ID = 'Stacking', 1\n",
    "            elif MODE_ID == 4: MODE, MODEL_ID = 'Stacking', 2\n",
    "            elif MODE_ID == 5: MODE, MODEL_ID = 'Stacking', 0\n",
    "            filename = '../result/'+ MODE +'/WMPC_'+ MODE +'_'+str(MODEL_ID)+'_'+str(TRAIN_SIZE)+'_'+str(REP_ID)+'_'\n",
    "            with open(filename+'f1_score.pickle', 'rb') as f:\n",
    "                macro, micro, cm = pickle.load(f)\n",
    "            macro_dict[MODE_ID][TRAIN_SIZE_ID].append(macro)\n",
    "            micro_dict[MODE_ID][TRAIN_SIZE_ID].append(micro)\n",
    "            cm_dict[MODE_ID][TRAIN_SIZE_ID]['total'].append(cm)\n",
    "            cm_dict[MODE_ID][TRAIN_SIZE_ID]['summary'] = cm_dict[MODE_ID][TRAIN_SIZE_ID]['summary'][0] + cm\n",
    "        macro_dict[MODE_ID]['mean'].append(np.mean(macro_dict[MODE_ID][TRAIN_SIZE_ID]))\n",
    "        macro_dict[MODE_ID]['std'].append(np.std(macro_dict[MODE_ID][TRAIN_SIZE_ID]))\n",
    "        micro_dict[MODE_ID]['mean'].append(np.mean(micro_dict[MODE_ID][TRAIN_SIZE_ID]))\n",
    "        micro_dict[MODE_ID]['std'].append(np.std(micro_dict[MODE_ID][TRAIN_SIZE_ID]))   "
   ]
  },
  {
   "cell_type": "code",
   "execution_count": 41,
   "metadata": {
    "ExecuteTime": {
     "end_time": "2021-03-01T12:16:34.067548Z",
     "start_time": "2021-03-01T12:16:34.055607Z"
    }
   },
   "outputs": [
    {
     "data": {
      "text/html": [
       "<div>\n",
       "<style scoped>\n",
       "    .dataframe tbody tr th:only-of-type {\n",
       "        vertical-align: middle;\n",
       "    }\n",
       "\n",
       "    .dataframe tbody tr th {\n",
       "        vertical-align: top;\n",
       "    }\n",
       "\n",
       "    .dataframe thead th {\n",
       "        text-align: right;\n",
       "    }\n",
       "</style>\n",
       "<table border=\"1\" class=\"dataframe\">\n",
       "  <thead>\n",
       "    <tr style=\"text-align: right;\">\n",
       "      <th></th>\n",
       "      <th>TS</th>\n",
       "      <th>MFE+FNN</th>\n",
       "      <th>CNN</th>\n",
       "      <th>MultiNN</th>\n",
       "      <th>Stacking-DT</th>\n",
       "      <th>Stacking-FNN</th>\n",
       "      <th>Stacking-MLR</th>\n",
       "    </tr>\n",
       "  </thead>\n",
       "  <tbody>\n",
       "    <tr>\n",
       "      <th>0</th>\n",
       "      <td>500</td>\n",
       "      <td>0.5558+-0.0376</td>\n",
       "      <td>0.4937+-0.0642</td>\n",
       "      <td>0.545+-0.0654</td>\n",
       "      <td>0.5068+-0.0427</td>\n",
       "      <td>0.5261+-0.0564</td>\n",
       "      <td>0.5872+-0.0542</td>\n",
       "    </tr>\n",
       "    <tr>\n",
       "      <th>1</th>\n",
       "      <td>5000</td>\n",
       "      <td>0.6983+-0.0371</td>\n",
       "      <td>0.6954+-0.042</td>\n",
       "      <td>0.7018+-0.0086</td>\n",
       "      <td>0.7184+-0.0203</td>\n",
       "      <td>0.7328+-0.0472</td>\n",
       "      <td>0.7599+-0.0202</td>\n",
       "    </tr>\n",
       "    <tr>\n",
       "      <th>2</th>\n",
       "      <td>50000</td>\n",
       "      <td>0.831+-0.0109</td>\n",
       "      <td>0.8397+-0.0213</td>\n",
       "      <td>0.8089+-0.0141</td>\n",
       "      <td>0.8459+-0.0141</td>\n",
       "      <td>0.8742+-0.0082</td>\n",
       "      <td>0.8686+-0.0078</td>\n",
       "    </tr>\n",
       "    <tr>\n",
       "      <th>3</th>\n",
       "      <td>162946</td>\n",
       "      <td>0.8599+-0.0117</td>\n",
       "      <td>0.8679+-0.0126</td>\n",
       "      <td>0.8372+-0.0247</td>\n",
       "      <td>0.88+-0.008</td>\n",
       "      <td>0.8991+-0.0098</td>\n",
       "      <td>0.8949+-0.0121</td>\n",
       "    </tr>\n",
       "  </tbody>\n",
       "</table>\n",
       "</div>"
      ],
      "text/plain": [
       "       TS         MFE+FNN             CNN         MultiNN     Stacking-DT  \\\n",
       "0     500  0.5558+-0.0376  0.4937+-0.0642   0.545+-0.0654  0.5068+-0.0427   \n",
       "1    5000  0.6983+-0.0371   0.6954+-0.042  0.7018+-0.0086  0.7184+-0.0203   \n",
       "2   50000   0.831+-0.0109  0.8397+-0.0213  0.8089+-0.0141  0.8459+-0.0141   \n",
       "3  162946  0.8599+-0.0117  0.8679+-0.0126  0.8372+-0.0247     0.88+-0.008   \n",
       "\n",
       "     Stacking-FNN    Stacking-MLR  \n",
       "0  0.5261+-0.0564  0.5872+-0.0542  \n",
       "1  0.7328+-0.0472  0.7599+-0.0202  \n",
       "2  0.8742+-0.0082  0.8686+-0.0078  \n",
       "3  0.8991+-0.0098  0.8949+-0.0121  "
      ]
     },
     "execution_count": 41,
     "metadata": {},
     "output_type": "execute_result"
    }
   ],
   "source": [
    "macro_df = {'TS': TRAIN_SIZE_LIST}\n",
    "for MODE_ID in range(6):\n",
    "    model_name = MODE_LIST[MODE_ID]\n",
    "    macro_df[model_name] = [str(np.round(macro_dict[MODE_ID]['mean'],4)[i]) +'+-'+ \n",
    "                            str(np.round(macro_dict[MODE_ID]['std'],4)[i]) for i in range(4)]\n",
    "pd.DataFrame(macro_df)"
   ]
  },
  {
   "cell_type": "code",
   "execution_count": null,
   "metadata": {},
   "outputs": [],
   "source": [
    "\n",
    "TS\tMFE+FNN\tCNN\tMultiNN\tStacking-DT\tStacking-FNN\tStacking-MLR\n",
    "0\t500\t0.5558+-0.0376\t0.4937+-0.0642\t0.545+-0.0654\t0.5177+-0.043\t0.5261+-0.0564\t0.5872+-0.0542\n",
    "1\t5000\t0.6983+-0.0371\t0.6954+-0.042\t0.7018+-0.0086\t0.7213+-0.0233\t0.7328+-0.0472\t0.7599+-0.0202\n",
    "2\t50000\t0.831+-0.0109\t0.8397+-0.0213\t0.8089+-0.0141\t0.8422+-0.0118\t0.8742+-0.0082\t0.8686+-0.0078\n",
    "3\t162946\t0.8599+-0.0117\t0.8679+-0.0126\t0.8372+-0.0247\t0.8799+-0.0082\t0.8991+-0.0098\t0.8949+-0.0121"
   ]
  },
  {
   "cell_type": "code",
   "execution_count": 42,
   "metadata": {
    "ExecuteTime": {
     "end_time": "2021-03-01T12:17:12.512938Z",
     "start_time": "2021-03-01T12:17:12.503962Z"
    }
   },
   "outputs": [
    {
     "name": "stdout",
     "output_type": "stream",
     "text": [
      "first: Stacking-MLR first: MFE+FNN * 0.0414\n",
      "first: Stacking-MLR first: Stacking-FNN * 0.0237\n",
      "first: Stacking-FNN first: Stacking-MLR __ 0.0617\n",
      "first: Stacking-FNN first: Stacking-MLR __ 0.1008\n"
     ]
    }
   ],
   "source": [
    "for TRAIN_SIZE_ID in range(4):\n",
    "    a_list = []\n",
    "    for MODE_ID in range(6):\n",
    "        a_list.append(macro_dict[MODE_ID]['mean'][TRAIN_SIZE_ID])\n",
    "    first, second = np.argsort(a_list)[::-1][:2]\n",
    "    p_value = stats.ttest_rel(macro_dict[first][TRAIN_SIZE_ID], \n",
    "                          macro_dict[second][TRAIN_SIZE_ID], alternative='greater')[1]\n",
    "    if p_value > 0.05: \n",
    "        print('first:', MODE_LIST[first], 'first:', MODE_LIST[second], '__', np.round(p_value, 4))\n",
    "    elif p_value > 0.01:\n",
    "        print('first:', MODE_LIST[first], 'first:', MODE_LIST[second], '*', np.round(p_value, 4))\n",
    "    else:\n",
    "        print('first:', MODE_LIST[first], 'first:', MODE_LIST[second], '**', np.round(p_value, 4))"
   ]
  },
  {
   "cell_type": "code",
   "execution_count": 43,
   "metadata": {
    "ExecuteTime": {
     "end_time": "2021-03-01T12:17:19.200200Z",
     "start_time": "2021-03-01T12:17:19.189201Z"
    }
   },
   "outputs": [
    {
     "data": {
      "text/html": [
       "<div>\n",
       "<style scoped>\n",
       "    .dataframe tbody tr th:only-of-type {\n",
       "        vertical-align: middle;\n",
       "    }\n",
       "\n",
       "    .dataframe tbody tr th {\n",
       "        vertical-align: top;\n",
       "    }\n",
       "\n",
       "    .dataframe thead th {\n",
       "        text-align: right;\n",
       "    }\n",
       "</style>\n",
       "<table border=\"1\" class=\"dataframe\">\n",
       "  <thead>\n",
       "    <tr style=\"text-align: right;\">\n",
       "      <th></th>\n",
       "      <th>TS</th>\n",
       "      <th>MFE+FNN</th>\n",
       "      <th>CNN</th>\n",
       "      <th>MultiNN</th>\n",
       "      <th>Stacking-DT</th>\n",
       "      <th>Stacking-FNN</th>\n",
       "      <th>Stacking-MLR</th>\n",
       "    </tr>\n",
       "  </thead>\n",
       "  <tbody>\n",
       "    <tr>\n",
       "      <th>0</th>\n",
       "      <td>500</td>\n",
       "      <td>0.9415+-0.0044</td>\n",
       "      <td>0.9292+-0.0092</td>\n",
       "      <td>0.9367+-0.0062</td>\n",
       "      <td>0.9347+-0.0042</td>\n",
       "      <td>0.9447+-0.0035</td>\n",
       "      <td>0.9462+-0.0042</td>\n",
       "    </tr>\n",
       "    <tr>\n",
       "      <th>1</th>\n",
       "      <td>5000</td>\n",
       "      <td>0.96+-0.0011</td>\n",
       "      <td>0.9607+-0.0027</td>\n",
       "      <td>0.9578+-0.0017</td>\n",
       "      <td>0.9606+-0.0026</td>\n",
       "      <td>0.9674+-0.002</td>\n",
       "      <td>0.9664+-0.0018</td>\n",
       "    </tr>\n",
       "    <tr>\n",
       "      <th>2</th>\n",
       "      <td>50000</td>\n",
       "      <td>0.9712+-0.001</td>\n",
       "      <td>0.9731+-0.0023</td>\n",
       "      <td>0.9693+-0.002</td>\n",
       "      <td>0.9723+-0.0023</td>\n",
       "      <td>0.978+-0.0009</td>\n",
       "      <td>0.9772+-0.0013</td>\n",
       "    </tr>\n",
       "    <tr>\n",
       "      <th>3</th>\n",
       "      <td>162946</td>\n",
       "      <td>0.9741+-0.001</td>\n",
       "      <td>0.9775+-0.0014</td>\n",
       "      <td>0.9731+-0.0015</td>\n",
       "      <td>0.9757+-0.0012</td>\n",
       "      <td>0.9809+-0.0008</td>\n",
       "      <td>0.9801+-0.001</td>\n",
       "    </tr>\n",
       "  </tbody>\n",
       "</table>\n",
       "</div>"
      ],
      "text/plain": [
       "       TS         MFE+FNN             CNN         MultiNN     Stacking-DT  \\\n",
       "0     500  0.9415+-0.0044  0.9292+-0.0092  0.9367+-0.0062  0.9347+-0.0042   \n",
       "1    5000    0.96+-0.0011  0.9607+-0.0027  0.9578+-0.0017  0.9606+-0.0026   \n",
       "2   50000   0.9712+-0.001  0.9731+-0.0023   0.9693+-0.002  0.9723+-0.0023   \n",
       "3  162946   0.9741+-0.001  0.9775+-0.0014  0.9731+-0.0015  0.9757+-0.0012   \n",
       "\n",
       "     Stacking-FNN    Stacking-MLR  \n",
       "0  0.9447+-0.0035  0.9462+-0.0042  \n",
       "1   0.9674+-0.002  0.9664+-0.0018  \n",
       "2   0.978+-0.0009  0.9772+-0.0013  \n",
       "3  0.9809+-0.0008   0.9801+-0.001  "
      ]
     },
     "execution_count": 43,
     "metadata": {},
     "output_type": "execute_result"
    }
   ],
   "source": [
    "micro_df = {'TS': TRAIN_SIZE_LIST}\n",
    "for MODE_ID in range(6):\n",
    "    model_name = MODE_LIST[MODE_ID]\n",
    "    micro_df[model_name] = [str(np.round(micro_dict[MODE_ID]['mean'],4)[i]) +'+-'+ \n",
    "                            str(np.round(micro_dict[MODE_ID]['std'],4)[i]) for i in range(4)]\n",
    "pd.DataFrame(micro_df)"
   ]
  },
  {
   "cell_type": "code",
   "execution_count": 44,
   "metadata": {
    "ExecuteTime": {
     "end_time": "2021-03-01T12:17:20.960038Z",
     "start_time": "2021-03-01T12:17:20.951040Z"
    }
   },
   "outputs": [
    {
     "name": "stdout",
     "output_type": "stream",
     "text": [
      "first: Stacking-MLR first: Stacking-FNN __ 0.1405\n",
      "first: Stacking-FNN first: Stacking-MLR * 0.01531\n",
      "first: Stacking-FNN first: Stacking-MLR * 0.01724\n",
      "first: Stacking-FNN first: Stacking-MLR * 0.01466\n"
     ]
    }
   ],
   "source": [
    "for TRAIN_SIZE_ID in range(4):\n",
    "    a_list = []\n",
    "    for MODE_ID in range(6):\n",
    "        a_list.append(micro_dict[MODE_ID]['mean'][TRAIN_SIZE_ID])\n",
    "    first, second = np.argsort(a_list)[::-1][:2]\n",
    "    p_value = stats.ttest_rel(micro_dict[first][TRAIN_SIZE_ID], \n",
    "                          micro_dict[second][TRAIN_SIZE_ID], alternative='greater')[1]\n",
    "    if p_value > 0.05: \n",
    "        print('first:', MODE_LIST[first], 'first:', MODE_LIST[second], '__', np.round(p_value, 5))\n",
    "    elif p_value > 0.01:\n",
    "        print('first:', MODE_LIST[first], 'first:', MODE_LIST[second], '*', np.round(p_value, 5))\n",
    "    else:\n",
    "        print('first:', MODE_LIST[first], 'first:', MODE_LIST[second], '**', np.round(p_value, 5))"
   ]
  },
  {
   "cell_type": "code",
   "execution_count": null,
   "metadata": {},
   "outputs": [],
   "source": []
  },
  {
   "cell_type": "code",
   "execution_count": null,
   "metadata": {},
   "outputs": [],
   "source": []
  }
 ],
 "metadata": {
  "kernelspec": {
   "display_name": "Python 3",
   "language": "python",
   "name": "python3"
  },
  "language_info": {
   "codemirror_mode": {
    "name": "ipython",
    "version": 3
   },
   "file_extension": ".py",
   "mimetype": "text/x-python",
   "name": "python",
   "nbconvert_exporter": "python",
   "pygments_lexer": "ipython3",
   "version": "3.7.5"
  },
  "toc": {
   "base_numbering": 1,
   "nav_menu": {},
   "number_sections": true,
   "sideBar": true,
   "skip_h1_title": false,
   "title_cell": "Table of Contents",
   "title_sidebar": "Contents",
   "toc_cell": false,
   "toc_position": {},
   "toc_section_display": true,
   "toc_window_display": false
  },
  "varInspector": {
   "cols": {
    "lenName": 16,
    "lenType": 16,
    "lenVar": 40
   },
   "kernels_config": {
    "python": {
     "delete_cmd_postfix": "",
     "delete_cmd_prefix": "del ",
     "library": "var_list.py",
     "varRefreshCmd": "print(var_dic_list())"
    },
    "r": {
     "delete_cmd_postfix": ") ",
     "delete_cmd_prefix": "rm(",
     "library": "var_list.r",
     "varRefreshCmd": "cat(var_dic_list()) "
    }
   },
   "types_to_exclude": [
    "module",
    "function",
    "builtin_function_or_method",
    "instance",
    "_Feature"
   ],
   "window_display": false
  }
 },
 "nbformat": 4,
 "nbformat_minor": 2
}
